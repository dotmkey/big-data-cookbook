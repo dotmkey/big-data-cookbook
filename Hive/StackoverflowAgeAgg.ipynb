{
 "cells": [
  {
   "cell_type": "code",
   "execution_count": 1,
   "metadata": {},
   "outputs": [
    {
     "name": "stdout",
     "output_type": "stream",
     "text": [
      "Writing age.hql\n"
     ]
    }
   ],
   "source": [
    "%%writefile age.hql\n",
    "\n",
    "use stackoverflow_;\n",
    "\n",
    "select \n",
    "    u.age, \n",
    "    sum(case when p.post_type_id = 1 then 1 else 0 end), \n",
    "    sum(case when p.post_type_id = 2 then 1 else 0 end) \n",
    "from users u\n",
    "inner join posts p on u.id = p.owner_user_id\n",
    "where u.age is not null\n",
    "group by u.age\n",
    "order by u.age;"
   ]
  },
  {
   "cell_type": "code",
   "execution_count": 2,
   "metadata": {},
   "outputs": [
    {
     "name": "stdout",
     "output_type": "stream",
     "text": [
      "14\t1\t0\n",
      "15\t1\t2\n",
      "16\t2\t0\n",
      "17\t0\t1\n",
      "18\t4\t1\n",
      "19\t1\t1\n",
      "20\t0\t2\n",
      "21\t11\t24\n",
      "22\t6\t18\n",
      "23\t12\t15\n",
      "24\t16\t27\n",
      "25\t20\t33\n",
      "26\t23\t44\n",
      "27\t28\t56\n",
      "28\t24\t37\n",
      "29\t24\t66\n",
      "30\t26\t67\n",
      "31\t17\t33\n",
      "32\t13\t48\n",
      "33\t11\t40\n",
      "34\t24\t36\n",
      "35\t12\t42\n",
      "36\t8\t64\n",
      "37\t9\t35\n",
      "38\t6\t17\n",
      "39\t3\t7\n",
      "40\t1\t13\n",
      "41\t5\t20\n",
      "42\t5\t22\n",
      "43\t2\t26\n",
      "44\t7\t35\n",
      "45\t1\t4\n",
      "46\t7\t9\n",
      "47\t1\t1\n",
      "48\t1\t1\n",
      "49\t1\t26\n",
      "50\t1\t26\n",
      "51\t4\t5\n",
      "52\t0\t2\n",
      "53\t0\t2\n",
      "54\t0\t1\n",
      "57\t0\t3\n",
      "58\t1\t57\n",
      "60\t0\t6\n",
      "61\t0\t3\n",
      "64\t2\t1\n",
      "86\t0\t1\n",
      "96\t3\t1\n"
     ]
    },
    {
     "name": "stderr",
     "output_type": "stream",
     "text": [
      "\n",
      "Logging initialized using configuration in jar:file:/usr/local/apache-hive-1.1.0-bin/lib/hive-common-1.1.0.jar!/hive-log4j.properties\n",
      "OK\n",
      "Time taken: 1.102 seconds\n",
      "Query ID = jovyan_20190114074949_82eb28ce-22ec-4c77-8540-4420033c92aa\n",
      "Total jobs = 2\n",
      "Execution log at: /tmp/jovyan/jovyan_20190114074949_82eb28ce-22ec-4c77-8540-4420033c92aa.log\n",
      "2019-01-14 07:49:25\tStarting to launch local task to process map join;\tmaximum memory = 477626368\n",
      "2019-01-14 07:49:27\tDump the side-table for tag: 0 with group count: 5951 into file: file:/tmp/jovyan/6659a4c1-0be1-472b-9555-8098032afe6d/hive_2019-01-14_07-49-16_259_2802301330124893874-1/-local-10005/HashTable-Stage-2/MapJoin-mapfile00--.hashtable\n",
      "2019-01-14 07:49:27\tUploaded 1 File to: file:/tmp/jovyan/6659a4c1-0be1-472b-9555-8098032afe6d/hive_2019-01-14_07-49-16_259_2802301330124893874-1/-local-10005/HashTable-Stage-2/MapJoin-mapfile00--.hashtable (137665 bytes)\n",
      "2019-01-14 07:49:27\tEnd of local task; Time Taken: 2.408 sec.\n",
      "Execution completed successfully\n",
      "MapredLocal task succeeded\n",
      "Launching Job 1 out of 2\n",
      "Number of reduce tasks not specified. Estimated from input data size: 1\n",
      "In order to change the average load for a reducer (in bytes):\n",
      "  set hive.exec.reducers.bytes.per.reducer=<number>\n",
      "In order to limit the maximum number of reducers:\n",
      "  set hive.exec.reducers.max=<number>\n",
      "In order to set a constant number of reducers:\n",
      "  set mapreduce.job.reduces=<number>\n",
      "Starting Job = job_1547387820326_0001, Tracking URL = http://f93f0998422a:8088/proxy/application_1547387820326_0001/\n",
      "Kill Command = /opt/hadoop/bin/hadoop job  -kill job_1547387820326_0001\n",
      "Hadoop job information for Stage-2: number of mappers: 1; number of reducers: 1\n",
      "2019-01-14 07:49:46,889 Stage-2 map = 0%,  reduce = 0%\n",
      "2019-01-14 07:49:58,898 Stage-2 map = 100%,  reduce = 0%, Cumulative CPU 8.95 sec\n",
      "2019-01-14 07:50:07,629 Stage-2 map = 100%,  reduce = 100%, Cumulative CPU 14.14 sec\n",
      "MapReduce Total cumulative CPU time: 14 seconds 140 msec\n",
      "Ended Job = job_1547387820326_0001\n",
      "Launching Job 2 out of 2\n",
      "Number of reduce tasks determined at compile time: 1\n",
      "In order to change the average load for a reducer (in bytes):\n",
      "  set hive.exec.reducers.bytes.per.reducer=<number>\n",
      "In order to limit the maximum number of reducers:\n",
      "  set hive.exec.reducers.max=<number>\n",
      "In order to set a constant number of reducers:\n",
      "  set mapreduce.job.reduces=<number>\n",
      "Starting Job = job_1547387820326_0002, Tracking URL = http://f93f0998422a:8088/proxy/application_1547387820326_0002/\n",
      "Kill Command = /opt/hadoop/bin/hadoop job  -kill job_1547387820326_0002\n",
      "Hadoop job information for Stage-3: number of mappers: 1; number of reducers: 1\n",
      "2019-01-14 07:50:25,450 Stage-3 map = 0%,  reduce = 0%\n",
      "2019-01-14 07:50:32,987 Stage-3 map = 100%,  reduce = 0%, Cumulative CPU 3.11 sec\n",
      "2019-01-14 07:50:41,602 Stage-3 map = 100%,  reduce = 100%, Cumulative CPU 7.09 sec\n",
      "MapReduce Total cumulative CPU time: 7 seconds 90 msec\n",
      "Ended Job = job_1547387820326_0002\n",
      "MapReduce Jobs Launched: \n",
      "Stage-Stage-2: Map: 1  Reduce: 1   Cumulative CPU: 14.14 sec   HDFS Read: 2259956 HDFS Write: 1056 SUCCESS\n",
      "Stage-Stage-3: Map: 1  Reduce: 1   Cumulative CPU: 7.09 sec   HDFS Read: 5621 HDFS Write: 376 SUCCESS\n",
      "Total MapReduce CPU Time Spent: 21 seconds 230 msec\n",
      "OK\n",
      "Time taken: 86.482 seconds, Fetched: 48 row(s)\n"
     ]
    }
   ],
   "source": [
    "%%bash\n",
    "\n",
    "hive -f age.hql"
   ]
  }
 ],
 "metadata": {
  "kernelspec": {
   "display_name": "Python 2",
   "language": "python",
   "name": "python2"
  },
  "language_info": {
   "codemirror_mode": {
    "name": "ipython",
    "version": 2
   },
   "file_extension": ".py",
   "mimetype": "text/x-python",
   "name": "python",
   "nbconvert_exporter": "python",
   "pygments_lexer": "ipython2",
   "version": "2.7.12"
  }
 },
 "nbformat": 4,
 "nbformat_minor": 2
}
