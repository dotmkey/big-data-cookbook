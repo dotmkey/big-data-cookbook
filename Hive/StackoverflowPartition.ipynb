{
 "cells": [
  {
   "cell_type": "code",
   "execution_count": 1,
   "metadata": {},
   "outputs": [
    {
     "name": "stdout",
     "output_type": "stream",
     "text": [
      "Overwriting task1_create_external_table.hql\n"
     ]
    }
   ],
   "source": [
    "%%writefile task1_create_external_table.hql\n",
    "\n",
    "add jar /opt/cloudera/parcels/CDH/lib/hive/lib/hive-contrib.jar;\n",
    "add jar /opt/cloudera/parcels/CDH/lib/hive/lib/hive-serde.jar;\n",
    "\n",
    "use demodb;\n",
    "\n",
    "drop table if exists posts_sample_external;\n",
    "\n",
    "create external table posts_sample_external (\n",
    "    id int,\n",
    "    post_type_id int,\n",
    "    creation_date string,\n",
    "    tags string,\n",
    "    owner_user_id int,\n",
    "    parent_id int,\n",
    "    score int,\n",
    "    favorite_count int\n",
    ")\n",
    "comment 'posts external'\n",
    "row format serde 'org.apache.hadoop.hive.serde2.RegexSerDe'\n",
    "    with serdeproperties (\n",
    "        \"input.regex\" = '^\\<row(?=.*\\\\bId=\\\"(\\\\d+))(?=.*\\\\bPostTypeId=\\\"(\\\\d+))(?=.*\\\\bCreationDate=\\\"([0-9-T:.]+)\\\")(?=.*\\\\bTags=\\\"([\\\\S\\\\s]+)\\\")?(?=.*\\bOwnerUserId=\\\"(\\\\d+))?(?=.*\\\\bParentId=\\\"(\\\\d+))?(?=.*\\\\bScore=\\\"(\\\\d\\+))?(?=.*\\\\bFavoriteCount =\\\"(\\\\d+))?.*$'\n",
    "    )\n",
    "stored as textfile\n",
    "location '/data/stackexchange1000/posts'\n",
    "tblproperties ('skip.header.line.count' = '1');"
   ]
  },
  {
   "cell_type": "code",
   "execution_count": 2,
   "metadata": {},
   "outputs": [
    {
     "name": "stdout",
     "output_type": "stream",
     "text": [
      "Overwriting task1_check_select.hql\n"
     ]
    }
   ],
   "source": [
    "%%writefile task1_check_select.hql\n",
    "\n",
    "add jar /opt/cloudera/parcels/CDH/lib/hive/lib/hive-contrib.jar;\n",
    "\n",
    "use demodb;\n",
    "\n",
    "select * from posts_sample_external limit 10;"
   ]
  },
  {
   "cell_type": "code",
   "execution_count": 3,
   "metadata": {},
   "outputs": [
    {
     "name": "stdout",
     "output_type": "stream",
     "text": [
      "Overwriting task1_create_managed_table.hql\n"
     ]
    }
   ],
   "source": [
    "%%writefile task1_create_managed_table.hql\n",
    "\n",
    "add jar /opt/cloudera/parcels/CDH/lib/hive/lib/hive-contrib.jar;\n",
    "\n",
    "use demodb;\n",
    "\n",
    "drop table if exists posts_sample;\n",
    "\n",
    "create table posts_sample (\n",
    "    id int,\n",
    "    post_type_id int,\n",
    "    creation_date string,\n",
    "    tags string,\n",
    "    owner_user_id int,\n",
    "    parent_id int,\n",
    "    score int,\n",
    "    favorite_count int\n",
    ")\n",
    "comment 'posts managed'\n",
    "partitioned by (year int, month string)\n",
    "row format delimited\n",
    "    fields terminated by '\\t'\n",
    "    lines terminated by '\\n'\n",
    "stored as textfile;"
   ]
  },
  {
   "cell_type": "code",
   "execution_count": 4,
   "metadata": {},
   "outputs": [
    {
     "name": "stdout",
     "output_type": "stream",
     "text": [
      "Overwriting task1_insert_table.hql\n"
     ]
    }
   ],
   "source": [
    "%%writefile task1_insert_table.hql\n",
    "\n",
    "add jar /opt/cloudera/parcels/CDH/lib/hive/lib/hive-contrib.jar;\n",
    "\n",
    "use demodb;\n",
    "\n",
    "set hive.exec.dynamic.partition.mode=nonstrict;\n",
    "\n",
    "from posts_sample_external\n",
    "insert overwrite table posts_sample\n",
    "partition (year, month)\n",
    "select \n",
    "    id,\n",
    "    post_type_id,\n",
    "    creation_date,\n",
    "    tags,\n",
    "    owner_user_id,\n",
    "    parent_id,\n",
    "    score,\n",
    "    favorite_count,\n",
    "    split(creation_date, '-')[0],\n",
    "    split(creation_date, '-')[1];"
   ]
  },
  {
   "cell_type": "code",
   "execution_count": 5,
   "metadata": {},
   "outputs": [
    {
     "name": "stdout",
     "output_type": "stream",
     "text": [
      "Overwriting task1_watch_new_table.hql\n"
     ]
    }
   ],
   "source": [
    "%%writefile task1_watch_new_table.hql\n",
    "\n",
    "add jar /opt/cloudera/parcels/CDH/lib/hive/lib/hive-contrib.jar;\n",
    "\n",
    "use demodb;\n",
    "\n",
    "describe posts_sample;"
   ]
  },
  {
   "cell_type": "code",
   "execution_count": 6,
   "metadata": {},
   "outputs": [
    {
     "name": "stdout",
     "output_type": "stream",
     "text": [
      "Overwriting task1_result.hql\n"
     ]
    }
   ],
   "source": [
    "%%writefile task1_result.hql\n",
    "\n",
    "add jar /opt/cloudera/parcels/CDH/lib/hive/lib/hive-contrib.jar;\n",
    "\n",
    "use demodb;\n",
    "\n",
    "select concat_ws('\\t', string(year), concat(year, '-', month), string(cnt)) \n",
    "    from (\n",
    "        select year, month, count(1) as cnt, row_number() over(order by year, month) as rnum \n",
    "            from posts_sample \n",
    "            group by year, month\n",
    "    ) posts \n",
    "    where rnum = 3;"
   ]
  },
  {
   "cell_type": "code",
   "execution_count": 7,
   "metadata": {},
   "outputs": [],
   "source": [
    "!cat task1_create_external_table.hql > task1.hql\n",
    "!cat task1_create_managed_table.hql >> task1.hql\n",
    "!cat task1_insert_table.hql >> task1.hql\n",
    "!cat task1_result.hql >> task1.hql"
   ]
  },
  {
   "cell_type": "code",
   "execution_count": 8,
   "metadata": {},
   "outputs": [
    {
     "name": "stdout",
     "output_type": "stream",
     "text": [
      "\r\n",
      "add jar /opt/cloudera/parcels/CDH/lib/hive/lib/hive-contrib.jar;\r\n",
      "add jar /opt/cloudera/parcels/CDH/lib/hive/lib/hive-serde.jar;\r\n",
      "\r\n",
      "use demodb;\r\n",
      "\r\n",
      "drop table if exists posts_sample_external;\r\n",
      "\r\n",
      "create external table posts_sample_external (\r\n",
      "    id int,\r\n",
      "    post_type_id int,\r\n",
      "    creation_date string,\r\n",
      "    tags string,\r\n",
      "    owner_user_id int,\r\n",
      "    parent_id int,\r\n",
      "    score int,\r\n",
      "    favorite_count int\r\n",
      ")\r\n",
      "comment 'posts external'\r\n",
      "row format serde 'org.apache.hadoop.hive.serde2.RegexSerDe'\r\n",
      "    with serdeproperties (\r\n",
      "        \"input.regex\" = '^\\<row(?=.*\\\\bId=\\\"(\\\\d+))(?=.*\\\\bPostTypeId=\\\"(\\\\d+))(?=.*\\\\bCreationDate=\\\"([0-9-T:.]+)\\\")(?=.*\\\\bTags=\\\"([\\\\S\\\\s]+)\\\")?(?=.*\\bOwnerUserId=\\\"(\\\\d+))?(?=.*\\\\bParentId=\\\"(\\\\d+))?(?=.*\\\\bScore=\\\"(\\\\d\\+))?(?=.*\\\\bFavoriteCount =\\\"(\\\\d+))?.*$'\r\n",
      "    )\r\n",
      "stored as textfile\r\n",
      "location '/data/stackexchange1000/posts'\r\n",
      "tblproperties ('skip.header.line.count' = '1');\r\n",
      "add jar /opt/cloudera/parcels/CDH/lib/hive/lib/hive-contrib.jar;\r\n",
      "\r\n",
      "use demodb;\r\n",
      "\r\n",
      "drop table if exists posts_sample;\r\n",
      "\r\n",
      "create table posts_sample (\r\n",
      "    id int,\r\n",
      "    post_type_id int,\r\n",
      "    creation_date string,\r\n",
      "    tags string,\r\n",
      "    owner_user_id int,\r\n",
      "    parent_id int,\r\n",
      "    score int,\r\n",
      "    favorite_count int\r\n",
      ")\r\n",
      "comment 'posts managed'\r\n",
      "partitioned by (year int, month string)\r\n",
      "row format delimited\r\n",
      "    fields terminated by '\\t'\r\n",
      "    lines terminated by '\\n'\r\n",
      "stored as textfile;\r\n",
      "add jar /opt/cloudera/parcels/CDH/lib/hive/lib/hive-contrib.jar;\r\n",
      "\r\n",
      "use demodb;\r\n",
      "\r\n",
      "set hive.exec.dynamic.partition.mode=nonstrict;\r\n",
      "\r\n",
      "from posts_sample_external\r\n",
      "insert overwrite table posts_sample\r\n",
      "partition (year, month)\r\n",
      "select \r\n",
      "    id,\r\n",
      "    post_type_id,\r\n",
      "    creation_date,\r\n",
      "    tags,\r\n",
      "    owner_user_id,\r\n",
      "    parent_id,\r\n",
      "    score,\r\n",
      "    favorite_count,\r\n",
      "    split(creation_date, '-')[0],\r\n",
      "    split(creation_date, '-')[1];\r\n",
      "add jar /opt/cloudera/parcels/CDH/lib/hive/lib/hive-contrib.jar;\r\n",
      "\r\n",
      "use demodb;\r\n",
      "\r\n",
      "select concat_ws('\\t', string(year), concat(year, '-', month), string(cnt)) \r\n",
      "    from (\r\n",
      "        select year, month, count(1) as cnt, row_number() over(order by year, month) as rnum \r\n",
      "            from posts_sample \r\n",
      "            group by year, month\r\n",
      "    ) posts \r\n",
      "    where rnum = 3;"
     ]
    }
   ],
   "source": [
    "!cat task1.hql"
   ]
  },
  {
   "cell_type": "code",
   "execution_count": 9,
   "metadata": {},
   "outputs": [
    {
     "data": {
      "application/javascript": [
       "\n",
       "$(document).ready(function() {\n",
       "    console.log('Ready');\n",
       "    \n",
       "    \n",
       "    function is_hive_command(list_tokens) {\n",
       "        return list_tokens.indexOf('hive') > -1 && \n",
       "             list_tokens.indexOf('f') > -1 &&\n",
       "             list_tokens.indexOf('-') > -1 && \n",
       "             list_tokens.indexOf('!') > -1 &&\n",
       "             list_tokens.indexOf('hql') > -1 && \n",
       "             list_tokens.indexOf('writefile') == -1;\n",
       "    } \n",
       "    \n",
       "    function collectText(input_tag) {\n",
       "\n",
       "        var result_string = [];\n",
       "        $.each($(input_tag).children(), function(index, child) {\n",
       "            result_string.push($(child).text());\n",
       "        });\n",
       "        return [result_string, is_hive_command(result_string)];\n",
       "    };\n",
       "    \n",
       "    var filtered_results = $(\".cell.code_cell.rendered\").filter(function(index, element) {\n",
       "        var out = collectText($(element).find('.CodeMirror-line').find('span'));\n",
       "        console.log(out);\n",
       "        return collectText($(element).find('.CodeMirror-line').find('span'))[1];\n",
       "    });\n",
       "    $(filtered_results).remove();\n",
       "});"
      ],
      "text/plain": [
       "<IPython.core.display.Javascript object>"
      ]
     },
     "metadata": {},
     "output_type": "display_data"
    }
   ],
   "source": [
    "%%javascript\n",
    "\n",
    "$(document).ready(function() {\n",
    "    console.log('Ready');\n",
    "    \n",
    "    \n",
    "    function is_hive_command(list_tokens) {\n",
    "        return list_tokens.indexOf('hive') > -1 && \n",
    "             list_tokens.indexOf('f') > -1 &&\n",
    "             list_tokens.indexOf('-') > -1 && \n",
    "             list_tokens.indexOf('!') > -1 &&\n",
    "             list_tokens.indexOf('hql') > -1 && \n",
    "             list_tokens.indexOf('writefile') == -1;\n",
    "    } \n",
    "    \n",
    "    function collectText(input_tag) {\n",
    "\n",
    "        var result_string = [];\n",
    "        $.each($(input_tag).children(), function(index, child) {\n",
    "            result_string.push($(child).text());\n",
    "        });\n",
    "        return [result_string, is_hive_command(result_string)];\n",
    "    };\n",
    "    \n",
    "    var filtered_results = $(\".cell.code_cell.rendered\").filter(function(index, element) {\n",
    "        var out = collectText($(element).find('.CodeMirror-line').find('span'));\n",
    "        console.log(out);\n",
    "        return collectText($(element).find('.CodeMirror-line').find('span'))[1];\n",
    "    });\n",
    "    $(filtered_results).remove();\n",
    "});"
   ]
  },
  {
   "cell_type": "code",
   "execution_count": 10,
   "metadata": {},
   "outputs": [
    {
     "name": "stderr",
     "output_type": "stream",
     "text": [
      "\n",
      "Logging initialized using configuration in jar:file:/usr/local/apache-hive-1.1.0-bin/lib/hive-common-1.1.0.jar!/hive-log4j.properties\n",
      "Added [/opt/cloudera/parcels/CDH/lib/hive/lib/hive-contrib.jar] to class path\n",
      "Added resources: [/opt/cloudera/parcels/CDH/lib/hive/lib/hive-contrib.jar]\n",
      "Added [/opt/cloudera/parcels/CDH/lib/hive/lib/hive-serde.jar] to class path\n",
      "Added resources: [/opt/cloudera/parcels/CDH/lib/hive/lib/hive-serde.jar]\n",
      "FAILED: SemanticException [Error 10072]: Database does not exist: demodb\n"
     ]
    }
   ],
   "source": [
    "%%bash\n",
    "hive -f task1.hql"
   ]
  }
 ],
 "metadata": {
  "kernelspec": {
   "display_name": "Python 2",
   "language": "python",
   "name": "python2"
  },
  "language_info": {
   "codemirror_mode": {
    "name": "ipython",
    "version": 2
   },
   "file_extension": ".py",
   "mimetype": "text/x-python",
   "name": "python",
   "nbconvert_exporter": "python",
   "pygments_lexer": "ipython2",
   "version": "2.7.12"
  }
 },
 "nbformat": 4,
 "nbformat_minor": 2
}
