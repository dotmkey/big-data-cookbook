{
 "cells": [
  {
   "cell_type": "code",
   "execution_count": 1,
   "metadata": {},
   "outputs": [],
   "source": [
    "from pyspark import SparkConf, SparkContext\n",
    "sc = SparkContext(conf=SparkConf().setAppName(\"MyApp\").setMaster(\"local\"))\n",
    "\n",
    "import re\n",
    "from math import log\n",
    "from __future__ import division\n",
    "\n",
    "def parse_article(line):\n",
    "    try:\n",
    "        article_id, text = unicode(line.rstrip()).split('\\t', 1)\n",
    "        text = re.sub(\"^\\W+|\\W+$\", \"\", text, flags=re.UNICODE)\n",
    "        words = re.split(\"\\W*\\s+\\W*\", text, flags=re.UNICODE)\n",
    "        return words\n",
    "    except ValueError as e:\n",
    "        return []\n",
    "    \n",
    "def make_bigrams(words):\n",
    "    bigrams = []\n",
    "    \n",
    "    for i, word in enumerate(words[:-1]):\n",
    "        bigrams.append((u'{}_{}'.format(word, words[i + 1]), 1))\n",
    "    \n",
    "    return bigrams\n",
    "\n",
    "def words_from_bigram(bigram_struct):\n",
    "    words = []\n",
    "    parts = bigram_struct[0].split('_')\n",
    "    \n",
    "    for part in parts:\n",
    "        words.append((u'{}'.format(part), 1))\n",
    "        \n",
    "    return words\n",
    "\n",
    "def npmi(bigram_struct, word_count, wc, bc):\n",
    "    bigram = bigram_struct[0]\n",
    "    bigram_count = bigram_struct[1]\n",
    "    \n",
    "    p_bigram = bigram_count / bc\n",
    "    \n",
    "    first, second = bigram.split('_')\n",
    "    p_a = word_count[first] / wc\n",
    "    p_b = word_count[second] / wc\n",
    "    \n",
    "    pmi = log(p_bigram / (p_a * p_b))\n",
    "    \n",
    "    return (((-1) * pmi / log(p_bigram)), bigram)\n",
    "        \n",
    "with open('/datasets/stop_words_en.txt', 'r') as f:\n",
    "    stop_words = set(f.read().split())\n",
    "    \n",
    "wiki = sc.textFile('/data/wiki/en_articles_part/articles-part', 16).map(parse_article)"
   ]
  },
  {
   "cell_type": "code",
   "execution_count": 2,
   "metadata": {},
   "outputs": [],
   "source": [
    "source = wiki.map(lambda article: [word.lower() for word in article if word.lower() not in stop_words])"
   ]
  },
  {
   "cell_type": "code",
   "execution_count": 3,
   "metadata": {},
   "outputs": [],
   "source": [
    "bigrams = source\\\n",
    "    .flatMap(make_bigrams)\\\n",
    "    .reduceByKey(lambda x, y: x + y)\\\n",
    "    .filter(lambda (bigram, count): count >= 500)"
   ]
  },
  {
   "cell_type": "code",
   "execution_count": 4,
   "metadata": {},
   "outputs": [],
   "source": [
    "needle_words = bigrams.flatMap(words_from_bigram).reduceByKey(lambda x, y: 1).collect()\n",
    "\n",
    "words = []\n",
    "for word, _ in needle_words:\n",
    "    words.append(word)"
   ]
  },
  {
   "cell_type": "code",
   "execution_count": 5,
   "metadata": {
    "scrolled": true
   },
   "outputs": [],
   "source": [
    "needle_words = source\\\n",
    "    .flatMap(lambda article: [(word, 1) for word in article if word in words])\\\n",
    "    .reduceByKey(lambda x, y: x + y)\\\n",
    "    .collect()\n",
    "    \n",
    "word_count = dict()\n",
    "for word, count in needle_words:\n",
    "    word_count[word] = count\n",
    "    \n",
    "wc = wiki.map(lambda article: len(article)).reduce(lambda x, y: x + y)\n",
    "bc = wc - wiki.count();"
   ]
  },
  {
   "cell_type": "code",
   "execution_count": 6,
   "metadata": {},
   "outputs": [
    {
     "name": "stdout",
     "output_type": "stream",
     "text": [
      "los_angeles\n",
      "external_links\n",
      "united_states\n",
      "prime_minister\n",
      "san_francisco\n",
      "et_al\n",
      "new_york\n",
      "supreme_court\n",
      "19th_century\n",
      "20th_century\n",
      "references_external\n",
      "soviet_union\n",
      "air_force\n",
      "baseball_player\n",
      "university_press\n",
      "united_kingdom\n",
      "roman_catholic\n",
      "references_reading\n",
      "notes_references\n",
      "award_best\n",
      "north_america\n",
      "new_zealand\n",
      "civil_war\n",
      "world_war\n",
      "catholic_church\n",
      "war_ii\n",
      "south_africa\n",
      "took_place\n",
      "roman_empire\n",
      "united_nations\n",
      "american_singer-songwriter\n",
      "high_school\n",
      "american_actor\n",
      "american_actress\n",
      "american_baseball\n",
      "york_city\n",
      "american_football\n",
      "years_later\n",
      "north_american\n"
     ]
    }
   ],
   "source": [
    "result = bigrams\\\n",
    "    .map(lambda bigram_struct: npmi(bigram_struct, word_count, wc, bc))\\\n",
    "    .sortByKey(False)\\\n",
    "    .take(39)"
   ]
  },
  {
   "cell_type": "code",
   "execution_count": null,
   "metadata": {},
   "outputs": [],
   "source": [
    "for _, bigram in result:\n",
    "    print(bigram)"
   ]
  }
 ],
 "metadata": {
  "kernelspec": {
   "display_name": "Python 2",
   "language": "python",
   "name": "python2"
  },
  "language_info": {
   "codemirror_mode": {
    "name": "ipython",
    "version": 2
   },
   "file_extension": ".py",
   "mimetype": "text/x-python",
   "name": "python",
   "nbconvert_exporter": "python",
   "pygments_lexer": "ipython2",
   "version": "2.7.12"
  }
 },
 "nbformat": 4,
 "nbformat_minor": 2
}
