{
 "cells": [
  {
   "cell_type": "code",
   "execution_count": 1,
   "metadata": {},
   "outputs": [],
   "source": [
    "from pyspark.sql import SparkSession\n",
    "from pyspark.sql.functions import col, sum, row_number, abs, count\n",
    "from pyspark.sql import Window, types\n",
    "\n",
    "spark_session = SparkSession.builder.enableHiveSupport().master(\"local\").getOrCreate()\n",
    "\n",
    "graph_path = \"/data/sample264\""
   ]
  },
  {
   "cell_type": "code",
   "execution_count": null,
   "metadata": {},
   "outputs": [],
   "source": [
    "def norm(df, key1, key2, field, n): \n",
    "    \n",
    "    window = Window.partitionBy(key1).orderBy(col(field).desc())\n",
    "        \n",
    "    tops_df = df.withColumn('row_number', row_number().over(window))\\\n",
    "        .filter(col('row_number') <= n)\\\n",
    "        .drop(col('row_number')) \n",
    "        \n",
    "    tmp_df = tops_df.groupBy(col(key1)).agg(col(key1), sum(col(field)).alias('sum_' + field))\n",
    "   \n",
    "    normalized_df = tops_df.join(tmp_df, key1, 'inner')\\\n",
    "        .withColumn('norm_' + field, col(field) / col('sum_' + field))\\\n",
    "        .cache()\n",
    "\n",
    "    return normalized_df"
   ]
  },
  {
   "cell_type": "code",
   "execution_count": null,
   "metadata": {},
   "outputs": [
    {
     "name": "stdout",
     "output_type": "stream",
     "text": [
      "798256 923706\n",
      "798319 837992\n",
      "798322 876562\n",
      "798331 827364\n",
      "798335 840741\n",
      "798374 816874\n",
      "798375 810685\n",
      "798379 812055\n",
      "798380 840113\n",
      "798396 817687\n",
      "798398 926302\n",
      "798405 867217\n",
      "798443 905923\n",
      "798457 918918\n",
      "798460 891840\n",
      "798461 940379\n",
      "798470 840814\n",
      "798474 963162\n",
      "798477 883244\n",
      "798485 955521\n",
      "798505 905671\n",
      "798550 936295\n",
      "798626 845438\n",
      "798691 818279\n",
      "798692 898823\n",
      "798702 811440\n",
      "798704 937570\n",
      "798725 933147\n",
      "798738 894170\n",
      "798745 799665\n",
      "798782 956938\n",
      "798801 950802\n",
      "798820 890393\n",
      "798833 916319\n",
      "798865 962662\n",
      "798931 893574\n",
      "798946 946408\n",
      "799012 809997\n",
      "799024 935246\n",
      "799047 905199\n"
     ]
    }
   ],
   "source": [
    "graph = spark_session.read.parquet(graph_path)\n",
    "copy  = spark_session.read.parquet(graph_path)\n",
    "\n",
    "unnorm = graph\\\n",
    "    .join(copy, graph.userId == copy.userId, 'inner')\\\n",
    "    .where(graph.trackId != copy.trackId)\\\n",
    "    .where(abs(graph.timestamp - copy.timestamp) < 420)\\\n",
    "    .select(graph.trackId.alias('track'), copy.trackId.alias('similar'))\\\n",
    "    .groupBy(col('track'), col('similar'))\\\n",
    "    .count()\n",
    "    \n",
    "norm = norm(unnorm, 'track', 'similar', 'count', 40)\\\n",
    "    .select(col('track'), col('similar'))\\\n",
    "    .orderBy(col('norm_count').desc(), col('track'), col('similar'))\\\n",
    "    .limit(40)\n",
    "    \n",
    "result = norm.collect()\n",
    "\n",
    "for track, similar in result:\n",
    "    print('%s\\t%s' % (track, similar))"
   ]
  }
 ],
 "metadata": {
  "kernelspec": {
   "display_name": "Python 2",
   "language": "python",
   "name": "python2"
  },
  "language_info": {
   "codemirror_mode": {
    "name": "ipython",
    "version": 2
   },
   "file_extension": ".py",
   "mimetype": "text/x-python",
   "name": "python",
   "nbconvert_exporter": "python",
   "pygments_lexer": "ipython2",
   "version": "2.7.12"
  }
 },
 "nbformat": 4,
 "nbformat_minor": 2
}
