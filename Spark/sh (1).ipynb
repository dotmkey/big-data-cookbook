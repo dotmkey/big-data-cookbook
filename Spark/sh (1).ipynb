{
 "cells": [
  {
   "cell_type": "code",
   "execution_count": null,
   "metadata": {},
   "outputs": [],
   "source": [
    "from pyspark.sql import SparkSession\n",
    "from pyspark.sql.functions import col, split, lit, concat, when\n",
    "\n",
    "spark_session = SparkSession.builder.enableHiveSupport().master(\"local\").getOrCreate()\n",
    "\n",
    "path = '/data/twitter/twitter_sample2.txt'\n",
    "\n",
    "graph = spark_session.read.text(path)\n",
    "\n",
    "source = 12\n",
    "target = 34"
   ]
  },
  {
   "cell_type": "code",
   "execution_count": null,
   "metadata": {},
   "outputs": [],
   "source": [
    "graph = graph\\\n",
    "    .withColumn('tmp', split('value', '\\t'))\\\n",
    "    .withColumn('source', col('tmp').getItem(0))\\\n",
    "    .withColumn('target', col('tmp').getItem(1))\\\n",
    "    .drop('value', 'tmp')\\\n",
    "    .cache()"
   ]
  },
  {
   "cell_type": "code",
   "execution_count": null,
   "metadata": {},
   "outputs": [],
   "source": [
    "paths = graph\\\n",
    "    .where(col('source') == source)\\\n",
    "    .withColumn('v', col('source'))\\\n",
    "    .withColumn('dist', lit(0))\\\n",
    "    .limit(1)\\\n",
    "    .drop('target', 'source')\\\n",
    "    .select(col('v'), col('dist'))\\\n",
    "    .cache()"
   ]
  },
  {
   "cell_type": "code",
   "execution_count": null,
   "metadata": {},
   "outputs": [],
   "source": [
    "dist = 0\n",
    "\n",
    "while True:\n",
    "    paths = paths\\\n",
    "        .join(graph, [col('v') == col('source'), col('v') != col('target'), col('dist') == dist], 'inner')\\\n",
    "        .withColumn('v', col('target'))\\\n",
    "        .withColumn('dist', col('dist') + 1)\\\n",
    "        .drop('target', 'source')\\\n",
    "        .select(col('v'), col('dist'))\\\n",
    "        .distinct()\\\n",
    "        .union(paths)\\\n",
    "        .persist()\n",
    "    \n",
    "    res = paths.where(col('v') == target).select(col('dist'))\n",
    "    \n",
    "    dist += 1\n",
    "    if res.count() > 0:\n",
    "        break\n",
    "        \n",
    "print(dist)"
   ]
  },
  {
   "cell_type": "code",
   "execution_count": null,
   "metadata": {},
   "outputs": [],
   "source": []
  }
 ],
 "metadata": {
  "kernelspec": {
   "display_name": "Python 2",
   "language": "python",
   "name": "python2"
  },
  "language_info": {
   "codemirror_mode": {
    "name": "ipython",
    "version": 2
   },
   "file_extension": ".py",
   "mimetype": "text/x-python",
   "name": "python",
   "nbconvert_exporter": "python",
   "pygments_lexer": "ipython2",
   "version": "2.7.12"
  }
 },
 "nbformat": 4,
 "nbformat_minor": 2
}
