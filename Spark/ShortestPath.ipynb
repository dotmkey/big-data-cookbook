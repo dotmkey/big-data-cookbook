{
 "cells": [
  {
   "cell_type": "code",
   "execution_count": 1,
   "metadata": {},
   "outputs": [],
   "source": [
    "import re\n",
    "from pyspark import SparkConf, SparkContext\n",
    "sc = SparkContext(conf=SparkConf().setAppName(\"MyApp\").setMaster(\"local\"))\n",
    "n = 4"
   ]
  },
  {
   "cell_type": "code",
   "execution_count": 2,
   "metadata": {},
   "outputs": [],
   "source": [
    "def parse(line):\n",
    "    user, follower = line.strip().split('\\t')\n",
    "    return (int(follower), int(user))"
   ]
  },
  {
   "cell_type": "code",
   "execution_count": 3,
   "metadata": {},
   "outputs": [],
   "source": [
    "rels = sc.textFile('/data/twitter/twitter_sample_small.txt', 16).map(parse).cache()"
   ]
  },
  {
   "cell_type": "code",
   "execution_count": 4,
   "metadata": {},
   "outputs": [],
   "source": [
    "source = 12\n",
    "target = 34"
   ]
  },
  {
   "cell_type": "code",
   "execution_count": 5,
   "metadata": {},
   "outputs": [],
   "source": [
    "vertex = source\n",
    "path = []\n",
    "distances = sc.parallelize([(vertex, None)]).partitionBy(n)\n",
    "completed = sc.parallelize([(vertex, [])]).partitionBy(n)"
   ]
  },
  {
   "cell_type": "code",
   "execution_count": 6,
   "metadata": {},
   "outputs": [],
   "source": [
    "def map_completed(vertex, item, path):\n",
    "    p = list(path)\n",
    "    p.append(item)\n",
    "    \n",
    "    return (vertex, p)"
   ]
  },
  {
   "cell_type": "code",
   "execution_count": 7,
   "metadata": {},
   "outputs": [],
   "source": [
    "while True:\n",
    "    d_join = distances.join(rels, n)\n",
    "    \n",
    "    c = d_join\\\n",
    "        .join(completed, n)\\\n",
    "        .map(lambda (v, (i, p)): map_completed(i[1], v, p))\\\n",
    "        .partitionBy(n)\n",
    "\n",
    "    distances = d_join.map(lambda (v, i): (i[1], v))\n",
    "    completed = completed.union(c).reduceByKey(lambda x, y: x if len(x) <= len(y) else y)\n",
    "    \n",
    "    completed_target = completed.filter(lambda (v, p): v == target)\n",
    "    \n",
    "    if completed_target.count():\n",
    "        path = completed_target.first()[1]\n",
    "        path.append(target)\n",
    "        break"
   ]
  },
  {
   "cell_type": "code",
   "execution_count": 8,
   "metadata": {},
   "outputs": [
    {
     "name": "stdout",
     "output_type": "stream",
     "text": [
      "12,422,53,52,107,20,23,274,34\n"
     ]
    }
   ],
   "source": [
    "print(','.join(map(str, path)))"
   ]
  }
 ],
 "metadata": {
  "kernelspec": {
   "display_name": "Python 2",
   "language": "python",
   "name": "python2"
  },
  "language_info": {
   "codemirror_mode": {
    "name": "ipython",
    "version": 2
   },
   "file_extension": ".py",
   "mimetype": "text/x-python",
   "name": "python",
   "nbconvert_exporter": "python",
   "pygments_lexer": "ipython2",
   "version": "2.7.12"
  }
 },
 "nbformat": 4,
 "nbformat_minor": 2
}
