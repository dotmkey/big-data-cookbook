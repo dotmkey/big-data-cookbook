{
 "cells": [
  {
   "cell_type": "code",
   "execution_count": 1,
   "metadata": {},
   "outputs": [],
   "source": [
    "from pyspark.sql import SparkSession\n",
    "from pyspark.sql.functions import col, sum, row_number, abs, count\n",
    "from pyspark.sql import Window, types\n",
    "\n",
    "spark_session = SparkSession.builder.enableHiveSupport().master(\"local\").getOrCreate()\n",
    "\n",
    "graph_path = \"/data/sample264\"\n",
    "meta_path  = \"/data/meta\""
   ]
  },
  {
   "cell_type": "code",
   "execution_count": 2,
   "metadata": {},
   "outputs": [
    {
     "name": "stdout",
     "output_type": "stream",
     "text": [
      "Artist: 3 Doors Down\tArtist: 3 Doors Down\n",
      "Artist: 3 Doors Down\tKryptonite\n",
      "Artist: 311\tArtist: 311\n",
      "Artist: 311\tBeautiful disaster\n",
      "Artist: Blur\tArtist: Blur\n",
      "Artist: Blur\tGirls and Boys\n",
      "Artist: Clawfinger\tArtist: Clawfinger\n",
      "Artist: Clawfinger\tNothing Going On\n",
      "Artist: Disturbed\tArtist: Disturbed\n",
      "Artist: Disturbed\tThe Vengeful One\n",
      "Artist: Gotthard\tArtist: Gotthard\n",
      "Artist: Gotthard\tEagle\n",
      "Artist: Green Day\t21 Guns\n",
      "Artist: Green Day\tArtist: Green Day\n",
      "Artist: Green Day\tKill The DJ\n",
      "Artist: Iggy Pop\tArtist: Iggy Pop\n",
      "Artist: Iggy Pop\tSunday\n",
      "Artist: Korn\tArtist: Korn\n",
      "Artist: Korn\tHere To Stay\n",
      "Artist: Linkin Park\tArtist: Linkin Park\n",
      "Artist: Linkin Park\tIn The End\n",
      "Artist: Linkin Park\tNumb\n",
      "Artist: Lordi\tArtist: Lordi\n",
      "Artist: Lordi\tHard Rock Hallelujah\n",
      "Artist: Nickelback\tArtist: Nickelback\n",
      "Artist: Nickelback\tShe Keeps Me Up\n",
      "Artist: Nomy\tArtist: Nomy\n",
      "Artist: Nomy\tCocaine\n",
      "Artist: Papa Roach\tArtist: Papa Roach\n",
      "Artist: Papa Roach\tGetting Away With Murder\n",
      "Artist: Rise Against\tArtist: Rise Against\n",
      "Artist: Rise Against\tPrayer Of The Refugee\n",
      "Artist: Serj Tankian\tArtist: Serj Tankian\n",
      "Artist: Serj Tankian\tSky is Over\n",
      "Artist: Slipknot\tArtist: Slipknot\n",
      "Artist: Slipknot\tWait And Bleed\n",
      "Artist: The Offspring\tArtist: The Offspring\n",
      "Artist: The Offspring\tCome Out and Play\n",
      "Artist: Thousand Foot Krutch\tArtist: Thousand Foot Krutch\n",
      "Artist: Thousand Foot Krutch\tTake It Out On Me\n"
     ]
    }
   ],
   "source": [
    "graph = spark_session.read.parquet(graph_path)\n",
    "meta  = spark_session.read.parquet(meta_path)\n",
    "\n",
    "user_tracks = graph\\\n",
    "    .where(col('userId') == 776748)\\\n",
    "    .groupBy(col('trackId'))\\\n",
    "    .agg(col('trackId'))\\\n",
    "    .join(meta, meta.Id == graph.trackId, 'inner')\\\n",
    "    .where(col('Type') == 'track')\\\n",
    "    .select(col('Artist').alias('artist'), col('Name').alias('name'))\n",
    "    \n",
    "user_artists = graph\\\n",
    "    .where(col('userId') == 776748)\\\n",
    "    .groupBy(col('artistId'))\\\n",
    "    .agg(col('artistId'))\\\n",
    "    .join(meta, meta.Id == graph.artistId, 'inner')\\\n",
    "    .where(col('Type') == 'artist')\\\n",
    "    .select(col('Artist').alias('artist'), col('Name').alias('name'))\n",
    "    \n",
    "result = user_tracks.union(user_artists).orderBy(col('artist'), col('name')).limit(40).collect()\n",
    "\n",
    "for artist, name in result:\n",
    "    print('%s\\t%s' % (artist, name))"
   ]
  }
 ],
 "metadata": {
  "kernelspec": {
   "display_name": "Python 2",
   "language": "python",
   "name": "python2"
  },
  "language_info": {
   "codemirror_mode": {
    "name": "ipython",
    "version": 2
   },
   "file_extension": ".py",
   "mimetype": "text/x-python",
   "name": "python",
   "nbconvert_exporter": "python",
   "pygments_lexer": "ipython2",
   "version": "2.7.12"
  }
 },
 "nbformat": 4,
 "nbformat_minor": 2
}
