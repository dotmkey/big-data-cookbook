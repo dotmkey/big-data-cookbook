{
 "cells": [
  {
   "cell_type": "code",
   "execution_count": 1,
   "metadata": {},
   "outputs": [],
   "source": [
    "from pyspark.sql import SparkSession\n",
    "from pyspark.sql.functions import col, sum, row_number, abs, count, lit, when\n",
    "from pyspark.sql import Window, types\n",
    "\n",
    "spark_session = SparkSession.builder.enableHiveSupport().master(\"local\").getOrCreate()\n",
    "\n",
    "data_path = '/data/sample264'\n",
    "meta_path = '/data/meta'\n",
    "\n",
    "user_id = 776748\n",
    "\n",
    "steps = 5\n",
    "\n",
    "alpha             = 0.15\n",
    "beta_user_track   = 0.5\n",
    "beta_user_artist  = 0.5\n",
    "beta_artist_track = 1.0\n",
    "beta_track_track  = 1.0\n",
    "\n",
    "data = spark_session.read.parquet(data_path)\n",
    "copy = spark_session.read.parquet(data_path)\n",
    "\n",
    "meta  = spark_session.read.parquet(meta_path)"
   ]
  },
  {
   "cell_type": "code",
   "execution_count": 2,
   "metadata": {},
   "outputs": [],
   "source": [
    "def norm(df, key1, key2, field, n): \n",
    "    \n",
    "    window = Window.partitionBy(key1).orderBy(col(field).desc())\n",
    "        \n",
    "    tops_df = df.withColumn('row_number', row_number().over(window))\\\n",
    "        .filter(col('row_number') <= n)\\\n",
    "        .drop(col('row_number')) \n",
    "        \n",
    "    tmp_df = tops_df.groupBy(col(key1)).agg(col(key1), sum(col(field)).alias('sum_' + field))\n",
    "   \n",
    "    normalized_df = tops_df.join(tmp_df, key1, 'inner')\\\n",
    "        .withColumn('norm_' + field, col(field) / col('sum_' + field))\\\n",
    "        .cache()\n",
    "\n",
    "    return normalized_df"
   ]
  },
  {
   "cell_type": "code",
   "execution_count": 3,
   "metadata": {},
   "outputs": [],
   "source": [
    "unnorm_tt_edges = data\\\n",
    "    .join(copy, copy.userId == data.userId, 'inner')\\\n",
    "    .where(abs(data.timestamp - copy.timestamp) <= 420)\\\n",
    "    .where(data.trackId != copy.trackId)\\\n",
    "    .select(data.trackId.alias('source'), copy.trackId.alias('dest'))\\\n",
    "    .groupBy(col('source'), col('dest'))\\\n",
    "    .count()\n",
    "    \n",
    "norm_tt_edges = norm(unnorm_tt_edges, 'source', 'dest', 'count', 1000)\\\n",
    "    .withColumn('nxt', col('norm_count') * beta_track_track)\\\n",
    "    .withColumn('source_type', lit('t'))\\\n",
    "    .withColumn('dest_type', lit('t'))\\\n",
    "    .select(col('source'), col('dest'), col('source_type'), col('dest_type'), col('nxt'))"
   ]
  },
  {
   "cell_type": "code",
   "execution_count": 4,
   "metadata": {},
   "outputs": [],
   "source": [
    "unnorm_ut_edges = data\\\n",
    "    .select(col('userId').alias('source'), col('trackId').alias('dest'))\\\n",
    "    .groupBy(col('source'), col('dest'))\\\n",
    "    .count()\n",
    "    \n",
    "norm_ut_edges = norm(unnorm_ut_edges, 'source', 'dest', 'count', 1000)\\\n",
    "    .withColumn('nxt', col('norm_count') * beta_user_track)\\\n",
    "    .withColumn('source_type', lit('u'))\\\n",
    "    .withColumn('dest_type', lit('t'))\\\n",
    "    .select(col('source'), col('dest'), col('source_type'), col('dest_type'), col('nxt'))"
   ]
  },
  {
   "cell_type": "code",
   "execution_count": 5,
   "metadata": {},
   "outputs": [],
   "source": [
    "unnorm_ua_edges = data\\\n",
    "    .select(col('userId').alias('source'), col('artistId').alias('dest'))\\\n",
    "    .groupBy(col('source'), col('dest'))\\\n",
    "    .count()\n",
    "    \n",
    "norm_ua_edges = norm(unnorm_ua_edges, 'source', 'dest', 'count', 100)\\\n",
    "    .withColumn('nxt', col('norm_count') * beta_user_artist)\\\n",
    "    .withColumn('source_type', lit('u'))\\\n",
    "    .withColumn('dest_type', lit('a'))\\\n",
    "    .select(col('source'), col('dest'), col('source_type'), col('dest_type'), col('nxt'))"
   ]
  },
  {
   "cell_type": "code",
   "execution_count": 6,
   "metadata": {},
   "outputs": [],
   "source": [
    "unnorm_at_edges = data\\\n",
    "    .select(col('artistId').alias('source'), col('trackId').alias('dest'))\\\n",
    "    .groupBy(col('source'), col('dest'))\\\n",
    "    .count()\n",
    "    \n",
    "norm_at_edges = norm(unnorm_at_edges, 'source', 'dest', 'count', 100)\\\n",
    "    .withColumn('nxt', col('norm_count') * beta_artist_track)\\\n",
    "    .withColumn('source_type', lit('a'))\\\n",
    "    .withColumn('dest_type', lit('t'))\\\n",
    "    .select(col('source'), col('dest'), col('source_type'), col('dest_type'), col('nxt'))"
   ]
  },
  {
   "cell_type": "code",
   "execution_count": 7,
   "metadata": {},
   "outputs": [],
   "source": [
    "norm_edges = norm_tt_edges.union(norm_ut_edges).union(norm_ua_edges).union(norm_at_edges).cache()"
   ]
  },
  {
   "cell_type": "code",
   "execution_count": 8,
   "metadata": {},
   "outputs": [],
   "source": [
    "user_tracks = data\\\n",
    "    .where(col('userId') == user_id)\\\n",
    "    .groupBy(col('trackId'))\\\n",
    "    .agg(col('trackId'))\\\n",
    "    .withColumn('type', lit('t'))\\\n",
    "    .select(col('trackId').alias('id'), col('type'))\n",
    "    \n",
    "user_artists = data\\\n",
    "    .where(col('userId') == user_id)\\\n",
    "    .groupBy(col('artistId'))\\\n",
    "    .agg(col('artistId'))\\\n",
    "    .withColumn('type', lit('a'))\\\n",
    "    .select(col('artistId').alias('id'), col('type'))"
   ]
  },
  {
   "cell_type": "code",
   "execution_count": 9,
   "metadata": {},
   "outputs": [],
   "source": [
    "user_x = data\\\n",
    "    .groupBy(col('userId'))\\\n",
    "    .agg(col('userId').alias('id'))\\\n",
    "    .withColumn('type', lit('u'))\\\n",
    "    .withColumn('v', when(col('id') == user_id, 1.0).otherwise(0.0))\\\n",
    "    .select(col('id'), col('type'), col('v'))"
   ]
  },
  {
   "cell_type": "code",
   "execution_count": 10,
   "metadata": {},
   "outputs": [],
   "source": [
    "artist_x = data\\\n",
    "    .groupBy(col('artistId'))\\\n",
    "    .agg(col('artistId'))\\\n",
    "    .join(user_artists, data.artistId == user_artists.id, how = 'left')\\\n",
    "    .withColumn('v', when(user_artists.id.isNull(), 0.0).otherwise(1.0))\\\n",
    "    .select(data.artistId.alias('id'), col('type'), col('v'))"
   ]
  },
  {
   "cell_type": "code",
   "execution_count": 11,
   "metadata": {},
   "outputs": [],
   "source": [
    "track_x = data\\\n",
    "    .groupBy(col('trackId'))\\\n",
    "    .agg(col('trackId'))\\\n",
    "    .join(user_tracks, col('trackId') == user_tracks.id, 'left')\\\n",
    "    .withColumn('v', when(user_tracks.id.isNull(), 0.0).otherwise(1.0))\\\n",
    "    .select(col('trackId').alias('id'), col('type'), col('v'))"
   ]
  },
  {
   "cell_type": "code",
   "execution_count": 12,
   "metadata": {},
   "outputs": [],
   "source": [
    "x = user_x.union(artist_x).union(track_x).cache()"
   ]
  },
  {
   "cell_type": "code",
   "execution_count": 13,
   "metadata": {},
   "outputs": [],
   "source": [
    "for _ in range(steps):\n",
    "    s = x\\\n",
    "        .join(norm_edges, (x.id == norm_edges.source) & (x.type == norm_edges.source_type), 'inner')\\\n",
    "        .withColumn('nxt', x.v * col('nxt'))\\\n",
    "        .groupBy(col('dest').alias('s_id'), col('dest_type').alias('s_type'))\\\n",
    "        .agg(sum(col('nxt')).alias('sum_nxt'))\\\n",
    "        .withColumn('sum_nxt', (1 - alpha) * col('sum_nxt'))\\\n",
    "        .select(col('s_id'), col('s_type'), col('sum_nxt').alias('s_v')).cache()\n",
    "    \n",
    "    x = x\\\n",
    "        .join(s, (x.id == s.s_id) & (x.type == s.s_type), 'left')\\\n",
    "        .withColumn('id', when(s.s_id.isNull(), x.id).otherwise(s.s_id))\\\n",
    "        .withColumn('type', when(s.s_type.isNull(), x.type).otherwise(s.s_type))\\\n",
    "        .withColumn('v', when(s.s_v.isNull(), x.v).otherwise(s.s_v))\\\n",
    "        .withColumn('v', when((col('id') == user_id) & (col('type') == 'u'), alpha + col('v')).otherwise(col('v')))\\\n",
    "        .select(col('id'), col('type'), col('v')).cache()"
   ]
  },
  {
   "cell_type": "code",
   "execution_count": 14,
   "metadata": {},
   "outputs": [
    {
     "name": "stdout",
     "output_type": "stream",
     "text": [
      "Kill The DJ\tArtist: Green Day\t1.72376154141\n",
      "Come Out and Play\tArtist: The Offspring\t1.65353255809\n",
      "I Hate Everything About You\tArtist: Three Days Grace\t1.51685667824\n",
      "Prayer Of The Refugee\tArtist: Rise Against\t1.49739596049\n",
      "21 Guns\tArtist: Green Day\t1.42402966101\n",
      "Eagle\tArtist: Gotthard\t1.35873805033\n",
      "Beautiful disaster\tArtist: 311\t1.02079963919\n",
      "Wait And Bleed\tArtist: Slipknot\t1.02079963919\n",
      "Here To Stay\tArtist: Korn\t1.01963284722\n",
      "Hard Rock Hallelujah\tArtist: Lordi\t1.01963284722\n",
      "Nothing Going On\tArtist: Clawfinger\t0.988808012274\n",
      "In The End\tArtist: Linkin Park\t0.902170093838\n",
      "Numb\tArtist: Linkin Park\t0.902170093838\n",
      "Sky is Over\tArtist: Serj Tankian\t0.771020931713\n",
      "Kryptonite\tArtist: 3 Doors Down\t0.771020931713\n",
      "Take It Out On Me\tArtist: Thousand Foot Krutch\t0.539536150013\n",
      "Girls and Boys\tArtist: Blur\t0.471747838381\n",
      "Cocaine\tArtist: Nomy\t0.274487103787\n",
      "Getting Away With Murder\tArtist: Papa Roach\t0.270584005378\n",
      "Artist: Green Day\tArtist: Green Day\t0.125925925926\n",
      "Artist: Linkin Park\tArtist: Linkin Park\t0.0503703703704\n",
      "Artist: The Offspring\tArtist: The Offspring\t0.0503703703704\n",
      "Artist: Clawfinger\tArtist: Clawfinger\t0.0503703703704\n",
      "The Vengeful One\tArtist: Disturbed\t0.0445856481481\n",
      "Sunday\tArtist: Iggy Pop\t0.0445856481481\n",
      "She Keeps Me Up\tArtist: Nickelback\t0.0445856481481\n",
      "Artist: Serj Tankian\tArtist: Serj Tankian\t0.0251851851852\n",
      "Artist: Rise Against\tArtist: Rise Against\t0.0251851851852\n",
      "Artist: Slipknot\tArtist: Slipknot\t0.0251851851852\n",
      "Artist: Nomy\tArtist: Nomy\t0.0251851851852\n",
      "Artist: 311\tArtist: 311\t0.0251851851852\n",
      "Artist: Gotthard\tArtist: Gotthard\t0.0251851851852\n",
      "Artist: Nickelback\tArtist: Nickelback\t0.0251851851852\n",
      "Artist: Disturbed\tArtist: Disturbed\t0.0251851851852\n",
      "Artist: Papa Roach\tArtist: Papa Roach\t0.0251851851852\n",
      "Artist: Korn\tArtist: Korn\t0.0251851851852\n",
      "Artist: Iggy Pop\tArtist: Iggy Pop\t0.0251851851852\n",
      "Artist: 3 Doors Down\tArtist: 3 Doors Down\t0.0251851851852\n",
      "Artist: Lordi\tArtist: Lordi\t0.0251851851852\n",
      "Artist: Three Days Grace\tArtist: Three Days Grace\t0.0251851851852\n"
     ]
    }
   ],
   "source": [
    "result = x\\\n",
    "    .where(col('type') != 'u')\\\n",
    "    .orderBy(col('v').desc())\\\n",
    "    .limit(40)\\\n",
    "    .select(col('id'), col('type'), col('v'))\\\n",
    "    .join(meta, x.id == meta.Id, 'inner')\\\n",
    "    .select(col('Name'), col('Artist'), col('v'))\n",
    "\n",
    "for name, artist, v in result.collect():\n",
    "    print('%s\\t%s\\t%s' % (name, artist, v))"
   ]
  }
 ],
 "metadata": {
  "kernelspec": {
   "display_name": "Python 2",
   "language": "python",
   "name": "python2"
  },
  "language_info": {
   "codemirror_mode": {
    "name": "ipython",
    "version": 2
   },
   "file_extension": ".py",
   "mimetype": "text/x-python",
   "name": "python",
   "nbconvert_exporter": "python",
   "pygments_lexer": "ipython2",
   "version": "2.7.12"
  }
 },
 "nbformat": 4,
 "nbformat_minor": 2
}
